{
 "cells": [
  {
   "cell_type": "code",
   "execution_count": 39,
   "metadata": {},
   "outputs": [
    {
     "name": "stdout",
     "output_type": "stream",
     "text": [
      "env: LAL_DATA_PATH=/work/lprudenzi/opt/lalsuite-extra/data/lalsimulation\n"
     ]
    }
   ],
   "source": [
    "import numpy as np\n",
    "import lalsimulation as lalsim\n",
    "import lal\n",
    "import matplotlib.pyplot as plt\n",
    "import pycbc.conversions as cv\n",
    "import pycbc.waveform\n",
    "import pycbc.psd\n",
    "import lalsimulation as lalsim\n",
    "import emcee\n",
    "import corner\n",
    "import multiprocessing as mp\n",
    "import matplotlib.patches as mpatches\n",
    "from multiprocessing import Pool\n",
    "\n",
    "np.random.seed(12345)\n",
    "%matplotlib inline\n",
    "%env LAL_DATA_PATH=/work/lprudenzi/opt/lalsuite-extra/data/lalsimulation"
   ]
  },
  {
   "cell_type": "code",
   "execution_count": 33,
   "metadata": {},
   "outputs": [],
   "source": [
    "q_low = 1  \n",
    "q_high = 2\n",
    "Mc_low = 1\n",
    "Mc_high = 2.5\n",
    "lambda_low = 0\n",
    "lambda_high = 5000\n",
    "\n",
    "def lprior_q(q):\n",
    "    if q < q_low or q > q_high:\n",
    "        return -1e10 \n",
    "    else:\n",
    "        return np.log(1/(q_high - q_low))\n",
    "\n",
    "def lprior_Mc(Mc):\n",
    "    \n",
    "    if Mc < Mc_low or Mc > Mc_high:\n",
    "        return -1e10\n",
    "    else:\n",
    "        return np.log(1/(Mc_high - Mc_low))\n",
    "\n",
    "def lprior_lambda(lambda_):\n",
    "    \n",
    "    if lambda_ < lambda_low or lambda_ > lambda_high:\n",
    "        return -1e10\n",
    "    else:\n",
    "        return np.log(1/(lambda_high - lambda_low))\n"
   ]
  },
  {
   "cell_type": "code",
   "execution_count": 34,
   "metadata": {},
   "outputs": [
    {
     "data": {
      "image/png": "[encoded data removed]",
      "text/plain": [
       "<Figure size 432x288 with 1 Axes>"
      ]
     },
     "metadata": {
      "needs_background": "light"
     },
     "output_type": "display_data"
    }
   ],
   "source": [
    "Mc_arr = np.linspace(0.8,2,10)\n",
    "q_arr = np.linspace(1,2.5,10)\n",
    "for q in q_arr:\n",
    "    for Mc in Mc_arr:\n",
    "        m1 = cv.mass1_from_mchirp_q(Mc,q)\n",
    "        m2 = cv.mass2_from_mchirp_q(Mc,q)\n",
    "        plt.scatter(m1,m2)\n",
    "plt.show()\n"
   ]
  },
  {
   "cell_type": "code",
   "execution_count": 35,
   "metadata": {},
   "outputs": [
    {
     "name": "stdout",
     "output_type": "stream",
     "text": [
      "0.01755330857595882\n",
      "1.1742757165047846 1.0769230769230769 400 500\n",
      "216333.68573611023\n"
     ]
    },
    {
     "data": {
      "image/png": "[encoded data removed]",
      "text/plain": [
       "<Figure size 432x288 with 1 Axes>"
      ]
     },
     "metadata": {
      "needs_background": "light"
     },
     "output_type": "display_data"
    }
   ],
   "source": [
    "s1z = 0\n",
    "s2z = 0\n",
    "distance = 100 * 1e6 * lal.PC_SI\n",
    "lambda1 = 400\n",
    "lambda2 = 400\n",
    "f_lower = 30\n",
    "f_upper = 2048\n",
    "df = 0.01\n",
    "\n",
    "approx_fd = \"SEOBNRv4T_Surrogate\"\n",
    "\n",
    "def htilde(par, approx_fd=\"SEOBNRv4T_Surrogate\"):\n",
    "    Mc = par[0]\n",
    "    q = par[1]\n",
    "    lambda1 = par[2]\n",
    "    lambda2 = par[3]\n",
    "    \n",
    "    m1 = cv.mass1_from_mchirp_q(Mc,q)\n",
    "    m2 = cv.mass2_from_mchirp_q(Mc,q)\n",
    "    \n",
    "    params_lal = lal.CreateDict()\n",
    "    lalsim.SimInspiralWaveformParamsInsertTidalLambda1(params_lal, lambda1)\n",
    "    lalsim.SimInspiralWaveformParamsInsertTidalLambda2(params_lal, lambda2)\n",
    "    approx_lal = lalsim.GetApproximantFromString(approx_fd)\n",
    "            \n",
    "    hp_fd, hc_fd = lalsim.SimInspiralChooseFDWaveform(\n",
    "                    m1*lal.MSUN_SI,\n",
    "                    m2*lal.MSUN_SI,\n",
    "                    0,\n",
    "                    0, \n",
    "                    s1z,\n",
    "                    0,\n",
    "                    0,\n",
    "                    s2z,\n",
    "                    distance,\n",
    "                    0,\n",
    "                    0,\n",
    "                    0,\n",
    "                    0,\n",
    "                    0,\n",
    "                    df,\n",
    "                    f_lower,\n",
    "                    f_upper,\n",
    "                    f_lower,\n",
    "                    params_lal,\n",
    "                    approx_lal)\n",
    "            \n",
    "    freq = np.arange(hp_fd.data.length)*df\n",
    "\n",
    "    hp_fd = hp_fd.data.data\n",
    "    hc_fd = hc_fd.data.data\n",
    "    h = hp_fd+1j*hc_fd\n",
    "    return freq, h\n",
    "\n",
    "m1_inj = 1.4\n",
    "m2_inj = 1.3\n",
    "lambda1_inj = 400\n",
    "lambda2_inj = 500\n",
    "\n",
    "Mc_inj = cv.mchirp_from_mass1_mass2(m1_inj,m2_inj)\n",
    "q_inj = cv.q_from_mass1_mass2(m1_inj,m2_inj)\n",
    "Mc_SI = Mc_inj*lal.MSUN_SI\n",
    "\n",
    "T = 5/256./(np.pi*f_lower)**(8/3.)*(lal.C_SI**3/(lal.G_SI*Mc_SI))**(5./3)\n",
    "print(1/T)\n",
    "print(Mc_inj, q_inj, lambda1_inj, lambda2_inj)\n",
    "\n",
    "freq, h_inj = htilde([Mc_inj,q_inj,lambda1_inj, lambda2_inj])\n",
    "freq, h_2 = htilde([Mc_inj+0.1,q_inj+0.1, lambda1_inj, lambda2_inj])\n",
    "\n",
    "psd = []\n",
    "for f in freq:\n",
    "    psd.append(lalsim.SimNoisePSDaLIGOZeroDetHighPower(f))\n",
    "asd = np.sqrt(psd)\n",
    "print(np.nansum((np.abs(h_inj - h_2)**2) / psd))\n",
    "plt.loglog(freq, np.abs(h_inj))\n",
    "plt.loglog(freq, np.abs(h_2))\n",
    "plt.loglog(freq, asd)\n",
    "plt.show()"
   ]
  },
  {
   "cell_type": "code",
   "execution_count": 36,
   "metadata": {},
   "outputs": [
    {
     "name": "stdout",
     "output_type": "stream",
     "text": [
      "Optimal SNR for the resolved source is 63.63109746449061\n"
     ]
    },
    {
     "name": "stderr",
     "output_type": "stream",
     "text": [
      "<ipython-input-36-f8b4c902e753>:2: RuntimeWarning: invalid value encountered in true_divide\n",
      "  return (4*df) * np.real(np.nansum(np.conjugate(h1_f)*h2_f/psd))\n"
     ]
    }
   ],
   "source": [
    "def inner_prod(h1_f,h2_f,psd):\n",
    "    return (4*df) * np.real(np.nansum(np.conjugate(h1_f)*h2_f/psd))\n",
    "\n",
    "\n",
    "snr2 = inner_prod(h_inj,h_inj,psd)\n",
    "rho = np.sqrt(snr2)\n",
    "print('Optimal SNR for the resolved source is',rho)"
   ]
  },
  {
   "cell_type": "code",
   "execution_count": 37,
   "metadata": {},
   "outputs": [],
   "source": [
    "def llike(params):\n",
    "    \"\"\"\n",
    "    Assumption: Known PSD otherwise need additional term\n",
    "    \"\"\"\n",
    "    f, h_sampled = htilde(params)\n",
    "    return(-0.5 * np.nansum((np.abs(h_inj - h_sampled)**2) / psd))\n",
    "\n",
    "def lpost(params):\n",
    "    '''\n",
    "    Compute log posterior.\n",
    "    Add parameters here as you see fit.\n",
    "    Add if clauses for each prior\n",
    "    '''\n",
    "    Mc = params[0]\n",
    "    q = params[1]\n",
    "    lambda1 = params[2]\n",
    "    lambda2 = params[3]\n",
    "\n",
    "    if Mc < Mc_low or Mc > Mc_high or q < q_low or q > q_high or lambda1 < lambda_low or lambda1 > lambda_high or lambda2 < lambda_low or lambda2 > lambda_high:\n",
    "        res = -np.inf\n",
    "    else:\n",
    "        res = llike(params) + lprior_Mc(Mc) + lprior_q(q)+lprior_lambda(lambda1)+lprior_lambda(lambda2)\n",
    "    return res"
   ]
  },
  {
   "cell_type": "code",
   "execution_count": 7,
   "metadata": {},
   "outputs": [],
   "source": [
    "\n"
   ]
  },
  {
   "cell_type": "code",
   "execution_count": null,
   "metadata": {},
   "outputs": [
    {
     "name": "stderr",
     "output_type": "stream",
     "text": [
      "  7%|▋         | 6731/100000 [18:35<4:22:06,  5.93it/s]"
     ]
    }
   ],
   "source": [
    "iterations = 100000\n",
    "nwalkers = 16\n",
    "\n",
    "pos = [Mc_inj,q_inj,lambda1_inj, lambda2_inj]\n",
    "start = pos*(1+1e-2* np.random.randn(nwalkers, 4))\n",
    "pool= Pool(32)\n",
    "\n",
    "nwalkers, ndim = start.shape\n",
    "sampler = emcee.EnsembleSampler(nwalkers, ndim, lpost, pool=pool)\n",
    "sampler.run_mcmc(start, iterations, progress=True)"
   ]
  },
  {
   "cell_type": "code",
   "execution_count": null,
   "metadata": {},
   "outputs": [],
   "source": [
    "flat_samples = sampler.get_chain(discard=25000, thin=1, flat=False)"
   ]
  },
  {
   "cell_type": "code",
   "execution_count": null,
   "metadata": {},
   "outputs": [],
   "source": [
    "org_samp = np.vstack( (flat_samples[:,:,0].flatten(), #mass samples.\n",
    "                       flat_samples[:,:,1].flatten(), #mass-ratios\n",
    "                       flat_samples[:,:,2].flatten(),\n",
    "                       flat_samples[:,:,3].flatten() #spin samples.\n",
    "                      ) ).T\n",
    "print(\"number of samples = \", np.shape(org_samp))\n",
    "print(\"median = \", np.median(org_samp,axis=0))\n",
    "print(\"inj = \", Mc_inj, q_inj, lambda1_inj, lambda2_inj)"
   ]
  },
  {
   "cell_type": "code",
   "execution_count": null,
   "metadata": {},
   "outputs": [],
   "source": [
    "CORNER_KWARGS = dict(\n",
    "    smooth=0.99, # smooths out contours. \n",
    "    plot_datapoints=False, # choose if you want datapoints\n",
    "    label_kwargs=dict(fontsize=12.5), # font size for labels\n",
    "    show_titles=True, #choose if you want titles on top of densities.\n",
    "    title_kwargs=dict(fontsize=12.5), # font size for title\n",
    "    plot_density=False,\n",
    "    quantiles=[0.16, 0.84],  # add quantiles to plot densities. \n",
    "    levels=(1 - np.exp(-0.5), 1 - np.exp(-2), 1 - np.exp(-9 / 2.)),\n",
    "    fill_contours=True, #decide if you want to fill the contours\n",
    "    max_n_ticks=1, # set a limit to ticks in the x-y axes.\n",
    "    title_fmt=\".1e\", # format for high powers (here 10^2 ~ e+02 etc.)\n",
    "    reverse=False  # if you are a madman, reverse the whole contour.\n",
    ")"
   ]
  },
  {
   "cell_type": "code",
   "execution_count": null,
   "metadata": {},
   "outputs": [],
   "source": [
    "for variable in range(4):\n",
    "    plt.figure()\n",
    "    plt.title('Check chains')\n",
    "    for i in range(8):\n",
    "        plt.plot(flat_samples[:,i,variable], label=str(i))\n",
    "\n",
    "    #plt.axhline(injection_params[variable] ,label='true',linestyle='--')\n",
    "    plt.legend()\n",
    "    plt.show()\n"
   ]
  },
  {
   "cell_type": "code",
   "execution_count": null,
   "metadata": {},
   "outputs": [],
   "source": [
    "labels = [r'$\\mathcal{M}_c$', r'$q$', r'$\\lambda_1$', r'$\\lambda_2$']\n",
    "truths=[Mc_inj,q_inj, lambda1_inj, lambda2_inj]\n",
    "\n",
    "fig = corner.corner(org_samp, bins=20,labels=labels, \n",
    "                    truths=truths,\n",
    "                    truth_color='red', \n",
    "                    color='black',**CORNER_KWARGS)\n",
    "\n",
    "red_patch = mpatches.Patch(color='red', label='True values')\n",
    "plt.legend(handles=[red_patch],bbox_to_anchor=(-1., 3.1), \n",
    "           loc='upper left', borderaxespad=0.)\n",
    "plt.show()"
   ]
  },
  {
   "cell_type": "code",
   "execution_count": null,
   "metadata": {},
   "outputs": [],
   "source": [
    "\n",
    "\n",
    "org_samp = np.vstack( (flat_samples[:,:,0].flatten(), #mass samples.\n",
    "                       flat_samples[:,:,1].flatten(), #mass-ratios\n",
    "                       flat_samples[:,:,2].flatten(),\n",
    "                       flat_samples[:,:,2].flatten() #spin samples.\n",
    "                      ) ).T\n",
    "print(\"number of samples = \", np.shape(org_samp))\n",
    "print(\"median = \", np.median(org_samp,axis=0))"
   ]
  },
  {
   "cell_type": "code",
   "execution_count": null,
   "metadata": {},
   "outputs": [],
   "source": [
    "labels = [r'$\\mathcal{M}_c$', r'$q$', r'$\\lambda_1$', r'$\\lambda_2$']\n",
    "truths=[Mc_inj,q_inj, lambda1_inj, lambda2_inj]\n",
    "\n",
    "fig = corner.corner(org_samp, bins=20,labels=labels, \n",
    "                    truths=truths,\n",
    "                    truth_color='red', \n",
    "                    color='black',**CORNER_KWARGS)\n",
    "\n",
    "red_patch = mpatches.Patch(color='red', label='True values')\n",
    "plt.legend(handles=[red_patch],bbox_to_anchor=(-1., 3.1), \n",
    "           loc='upper left', borderaxespad=0.)\n",
    "plt.show()"
   ]
  },
  {
   "cell_type": "code",
   "execution_count": null,
   "metadata": {},
   "outputs": [],
   "source": []
  }
 ],
 "metadata": {
  "kernelspec": {
   "display_name": "Python 3",
   "language": "python",
   "name": "python3"
  },
  "language_info": {
   "codemirror_mode": {
    "name": "ipython",
    "version": 3
   },
   "file_extension": ".py",
   "mimetype": "text/x-python",
   "name": "python",
   "nbconvert_exporter": "python",
   "pygments_lexer": "ipython3",
   "version": "3.8.12"
  }
 },
 "nbformat": 4,
 "nbformat_minor": 2
}
