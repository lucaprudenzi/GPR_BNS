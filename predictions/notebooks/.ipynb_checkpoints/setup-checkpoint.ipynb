{
 "cells": [
  {
   "cell_type": "markdown",
   "metadata": {},
   "source": [
    "# GPR for binary neutron star waveform model\n",
    "To construct the posterior distribution on parameter $\\lambda$ of a signal, given the data $s(\\lambda)=h(\\lambda)+n$\n",
    "$$p(\\lambda|s)\\propto \\mathcal{L}(s|\\lambda)\\pi(\\lambda)$$\n",
    "\n",
    "The likelihood for the approximate waveform model $H(\\lambda)$ is\n",
    "$$\\mathcal{L}(s|\\lambda)\\propto exp(-0.5(s-H|s-H))$$\n",
    "\n",
    "The aim of the work is to construct a likelihood that accounts for the uncertainty of the waveform model\n",
    "$$\\mathcal{L}(s|\\lambda)\\propto\\int d[\\delta h(\\lambda)]P(\\delta h(\\lambda))exp(-0.5(s-H+\\delta h|s-H+\\delta h))$$\n",
    "where $\\delta h(\\lambda)=H(\\lambda)-h(\\lambda)$ is correction to the approximate waveform model. The distribution $P(\\delta h)$ should contain the information on $\\delta h$ where it is know and provides an interpolation in the intermediate points \n",
    "\n",
    "Gaussian process regression provides an expression for $P(\\delta h)$ gaussian in $\\delta h$\n",
    "$$P(\\delta h(\\lambda))\\propto exp(-0.5\\frac{(\\delta h(\\lambda)-\\mu(\\lambda)|\\delta h(\\lambda)-\\mu(\\lambda))}{\\sigma^2})$$\n",
    "where\n",
    "- $\\mu(\\lambda)=K_*K^{-1}\\delta h$\n",
    "- $\\sigma^2(\\lambda) = K_{**}-K_*K^{-1}K_*$\n",
    "\n",
    "where $K=k(\\lambda_{train},\\lambda_{train})$, $K_*=k(\\lambda_{train},\\lambda_{test})$ and $K_{**}=k(\\lambda_{test},\\lambda_{test})$ are matrices which functional form depends on some parameters i.e. ($sigma_f, l_i$) that determine how the interpolation is performed between the training points:\n",
    "$$K(\\lambda_i, \\lambda_j)=\\sigma_f*exp(-0.5(\\lambda_i-\\lambda_j)M(\\lambda_i-\\lambda_j)), M=diag(l_1^{-2},l_2^{-2},l_3^{-2},..)$$\n",
    "The best values for these parameters ($sigma_f, l_i$) are found from the training points.\n",
    "\n",
    "Main points of the project:\n",
    "- we use as approximate model $H(\\lambda)$ the BNS waveform model SEOBNRv4T_Surrogate\n",
    "- we use the subset of NR simulations of SACRA and BAM catalogue with better accuracy\n",
    "- the training set for the $\\delta h$ is split in correction for $\\delta A$ and $\\delta\\phi$\n",
    "    - we want to rewrite the $P(\\delta h(\\lambda))$ in terms of $\\delta A$ and $\\delta\\phi$\n",
    "    - $P(\\delta h(\\lambda))$ could not be a gaussian combining the two terms from $\\delta A$ and $\\delta\\phi$\n",
    "- we want to incorporate the frequency evolution in the set of parameters $\\lambda$\n",
    "    - $\\lambda=(f, m_1, m_2, \\chi_1, \\chi_2, \\lambda_1, \\lambda_2)$"
   ]
  },
  {
   "cell_type": "code",
   "execution_count": null,
   "metadata": {},
   "outputs": [],
   "source": []
  },
  {
   "cell_type": "code",
   "execution_count": null,
   "metadata": {},
   "outputs": [],
   "source": []
  },
  {
   "cell_type": "markdown",
   "metadata": {},
   "source": []
  }
 ],
 "metadata": {
  "language_info": {
   "name": "python"
  }
 },
 "nbformat": 4,
 "nbformat_minor": 2
}
